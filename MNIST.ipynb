{
 "cells": [
  {
   "cell_type": "markdown",
   "metadata": {
    "id": "SMVyIwGzl-li"
   },
   "source": [
    "# ResNet for MNIST in PyTorch"
   ]
  },
  {
   "cell_type": "code",
   "execution_count": null,
   "metadata": {
    "colab": {
     "base_uri": "https://localhost:8080/"
    },
    "id": "TtYlaMbW1mmw",
    "outputId": "e6ec13ae-8844-4a2c-c52c-94d9a4dce16c"
   },
   "outputs": [
    {
     "name": "stdout",
     "output_type": "stream",
     "text": [
      "Collecting torch\n",
      "  Downloading torch-2.8.0-cp310-none-macosx_11_0_arm64.whl.metadata (30 kB)\n",
      "Collecting torchvision\n",
      "  Downloading torchvision-0.23.0-cp310-cp310-macosx_11_0_arm64.whl.metadata (6.1 kB)\n",
      "Collecting pytorch-lightning\n",
      "  Downloading pytorch_lightning-2.5.5-py3-none-any.whl.metadata (20 kB)\n",
      "Collecting filelock (from torch)\n",
      "  Downloading filelock-3.19.1-py3-none-any.whl.metadata (2.1 kB)\n",
      "Requirement already satisfied: typing-extensions>=4.10.0 in /Users/advaittahilyani/anaconda3/envs/waferDetection/lib/python3.10/site-packages (from torch) (4.15.0)\n",
      "Collecting sympy>=1.13.3 (from torch)\n",
      "  Using cached sympy-1.14.0-py3-none-any.whl.metadata (12 kB)\n",
      "Collecting networkx (from torch)\n",
      "  Using cached networkx-3.4.2-py3-none-any.whl.metadata (6.3 kB)\n",
      "Requirement already satisfied: jinja2 in /Users/advaittahilyani/anaconda3/envs/waferDetection/lib/python3.10/site-packages (from torch) (3.1.6)\n",
      "Collecting fsspec (from torch)\n",
      "  Downloading fsspec-2025.9.0-py3-none-any.whl.metadata (10 kB)\n",
      "Requirement already satisfied: numpy in /Users/advaittahilyani/anaconda3/envs/waferDetection/lib/python3.10/site-packages (from torchvision) (2.2.6)\n",
      "Requirement already satisfied: pillow!=8.3.*,>=5.3.0 in /Users/advaittahilyani/anaconda3/envs/waferDetection/lib/python3.10/site-packages (from torchvision) (11.3.0)\n",
      "Requirement already satisfied: tqdm>=4.57.0 in /Users/advaittahilyani/anaconda3/envs/waferDetection/lib/python3.10/site-packages (from pytorch-lightning) (4.67.1)\n",
      "Requirement already satisfied: PyYAML>5.4 in /Users/advaittahilyani/anaconda3/envs/waferDetection/lib/python3.10/site-packages (from pytorch-lightning) (6.0.2)\n",
      "Collecting torchmetrics>0.7.0 (from pytorch-lightning)\n",
      "  Downloading torchmetrics-1.8.2-py3-none-any.whl.metadata (22 kB)\n",
      "Requirement already satisfied: packaging>=20.0 in /Users/advaittahilyani/anaconda3/envs/waferDetection/lib/python3.10/site-packages (from pytorch-lightning) (25.0)\n",
      "Collecting lightning-utilities>=0.10.0 (from pytorch-lightning)\n",
      "  Downloading lightning_utilities-0.15.2-py3-none-any.whl.metadata (5.7 kB)\n",
      "Collecting aiohttp!=4.0.0a0,!=4.0.0a1 (from fsspec[http]>=2022.5.0->pytorch-lightning)\n",
      "  Downloading aiohttp-3.12.15-cp310-cp310-macosx_11_0_arm64.whl.metadata (7.7 kB)\n",
      "Collecting aiohappyeyeballs>=2.5.0 (from aiohttp!=4.0.0a0,!=4.0.0a1->fsspec[http]>=2022.5.0->pytorch-lightning)\n",
      "  Downloading aiohappyeyeballs-2.6.1-py3-none-any.whl.metadata (5.9 kB)\n",
      "Collecting aiosignal>=1.4.0 (from aiohttp!=4.0.0a0,!=4.0.0a1->fsspec[http]>=2022.5.0->pytorch-lightning)\n",
      "  Downloading aiosignal-1.4.0-py3-none-any.whl.metadata (3.7 kB)\n",
      "Collecting async-timeout<6.0,>=4.0 (from aiohttp!=4.0.0a0,!=4.0.0a1->fsspec[http]>=2022.5.0->pytorch-lightning)\n",
      "  Downloading async_timeout-5.0.1-py3-none-any.whl.metadata (5.1 kB)\n",
      "Requirement already satisfied: attrs>=17.3.0 in /Users/advaittahilyani/anaconda3/envs/waferDetection/lib/python3.10/site-packages (from aiohttp!=4.0.0a0,!=4.0.0a1->fsspec[http]>=2022.5.0->pytorch-lightning) (24.3.0)\n",
      "Collecting frozenlist>=1.1.1 (from aiohttp!=4.0.0a0,!=4.0.0a1->fsspec[http]>=2022.5.0->pytorch-lightning)\n",
      "  Downloading frozenlist-1.7.0-cp310-cp310-macosx_11_0_arm64.whl.metadata (18 kB)\n",
      "Collecting multidict<7.0,>=4.5 (from aiohttp!=4.0.0a0,!=4.0.0a1->fsspec[http]>=2022.5.0->pytorch-lightning)\n",
      "  Downloading multidict-6.6.4-cp310-cp310-macosx_11_0_arm64.whl.metadata (5.3 kB)\n",
      "Collecting propcache>=0.2.0 (from aiohttp!=4.0.0a0,!=4.0.0a1->fsspec[http]>=2022.5.0->pytorch-lightning)\n",
      "  Downloading propcache-0.3.2-cp310-cp310-macosx_11_0_arm64.whl.metadata (12 kB)\n",
      "Collecting yarl<2.0,>=1.17.0 (from aiohttp!=4.0.0a0,!=4.0.0a1->fsspec[http]>=2022.5.0->pytorch-lightning)\n",
      "  Downloading yarl-1.20.1-cp310-cp310-macosx_11_0_arm64.whl.metadata (73 kB)\n",
      "Requirement already satisfied: idna>=2.0 in /Users/advaittahilyani/anaconda3/envs/waferDetection/lib/python3.10/site-packages (from yarl<2.0,>=1.17.0->aiohttp!=4.0.0a0,!=4.0.0a1->fsspec[http]>=2022.5.0->pytorch-lightning) (3.10)\n",
      "Requirement already satisfied: setuptools in /Users/advaittahilyani/anaconda3/envs/waferDetection/lib/python3.10/site-packages (from lightning-utilities>=0.10.0->pytorch-lightning) (78.1.1)\n",
      "Collecting mpmath<1.4,>=1.1.0 (from sympy>=1.13.3->torch)\n",
      "  Using cached mpmath-1.3.0-py3-none-any.whl.metadata (8.6 kB)\n",
      "Requirement already satisfied: MarkupSafe>=2.0 in /Users/advaittahilyani/anaconda3/envs/waferDetection/lib/python3.10/site-packages (from jinja2->torch) (3.0.2)\n",
      "Downloading torch-2.8.0-cp310-none-macosx_11_0_arm64.whl (73.6 MB)\n",
      "\u001b[2K   \u001b[38;2;114;156;31m━━━━━━━━━━━━━━━━━━━━━━━━━━━━━━━━━━━━━━━━\u001b[0m \u001b[32m73.6/73.6 MB\u001b[0m \u001b[31m32.8 MB/s\u001b[0m  \u001b[33m0:00:02\u001b[0m3.7 MB/s\u001b[0m eta \u001b[36m0:00:01\u001b[0m:01\u001b[0m\n",
      "\u001b[?25hDownloading torchvision-0.23.0-cp310-cp310-macosx_11_0_arm64.whl (1.9 MB)\n",
      "\u001b[2K   \u001b[38;2;114;156;31m━━━━━━━━━━━━━━━━━━━━━━━━━━━━━━━━━━━━━━━━\u001b[0m \u001b[32m1.9/1.9 MB\u001b[0m \u001b[31m24.6 MB/s\u001b[0m  \u001b[33m0:00:00\u001b[0m\n",
      "\u001b[?25hDownloading pytorch_lightning-2.5.5-py3-none-any.whl (832 kB)\n",
      "\u001b[2K   \u001b[38;2;114;156;31m━━━━━━━━━━━━━━━━━━━━━━━━━━━━━━━━━━━━━━━━\u001b[0m \u001b[32m832.4/832.4 kB\u001b[0m \u001b[31m23.7 MB/s\u001b[0m  \u001b[33m0:00:00\u001b[0m\n",
      "\u001b[?25hDownloading fsspec-2025.9.0-py3-none-any.whl (199 kB)\n",
      "Downloading aiohttp-3.12.15-cp310-cp310-macosx_11_0_arm64.whl (468 kB)\n",
      "Downloading async_timeout-5.0.1-py3-none-any.whl (6.2 kB)\n",
      "Downloading multidict-6.6.4-cp310-cp310-macosx_11_0_arm64.whl (44 kB)\n",
      "Downloading yarl-1.20.1-cp310-cp310-macosx_11_0_arm64.whl (89 kB)\n",
      "Downloading aiohappyeyeballs-2.6.1-py3-none-any.whl (15 kB)\n",
      "Downloading aiosignal-1.4.0-py3-none-any.whl (7.5 kB)\n",
      "Downloading frozenlist-1.7.0-cp310-cp310-macosx_11_0_arm64.whl (46 kB)\n",
      "Downloading lightning_utilities-0.15.2-py3-none-any.whl (29 kB)\n",
      "Downloading propcache-0.3.2-cp310-cp310-macosx_11_0_arm64.whl (43 kB)\n",
      "Using cached sympy-1.14.0-py3-none-any.whl (6.3 MB)\n",
      "Using cached mpmath-1.3.0-py3-none-any.whl (536 kB)\n",
      "Downloading torchmetrics-1.8.2-py3-none-any.whl (983 kB)\n",
      "\u001b[2K   \u001b[38;2;114;156;31m━━━━━━━━━━━━━━━━━━━━━━━━━━━━━━━━━━━━━━━━\u001b[0m \u001b[32m983.2/983.2 kB\u001b[0m \u001b[31m23.8 MB/s\u001b[0m  \u001b[33m0:00:00\u001b[0m\n",
      "\u001b[?25hDownloading filelock-3.19.1-py3-none-any.whl (15 kB)\n",
      "Using cached networkx-3.4.2-py3-none-any.whl (1.7 MB)\n",
      "Installing collected packages: mpmath, sympy, propcache, networkx, multidict, lightning-utilities, fsspec, frozenlist, filelock, async-timeout, aiohappyeyeballs, yarl, torch, aiosignal, torchvision, torchmetrics, aiohttp, pytorch-lightning\n",
      "\u001b[2K   \u001b[38;2;114;156;31m━━━━━━━━━━━━━━━━━━━━━━━━━━━━━━━━━━━━━━━━\u001b[0m \u001b[32m18/18\u001b[0m [pytorch-lightning]0m \u001b[32m17/18\u001b[0m [pytorch-lightning]\n",
      "\u001b[1A\u001b[2KSuccessfully installed aiohappyeyeballs-2.6.1 aiohttp-3.12.15 aiosignal-1.4.0 async-timeout-5.0.1 filelock-3.19.1 frozenlist-1.7.0 fsspec-2025.9.0 lightning-utilities-0.15.2 mpmath-1.3.0 multidict-6.6.4 networkx-3.4.2 propcache-0.3.2 pytorch-lightning-2.5.5 sympy-1.14.0 torch-2.8.0 torchmetrics-1.8.2 torchvision-0.23.0 yarl-1.20.1\n"
     ]
    }
   ],
   "source": [
    "!pip install torch torchvision pytorch-lightning"
   ]
  },
  {
   "cell_type": "code",
   "execution_count": 12,
   "metadata": {
    "colab": {
     "base_uri": "https://localhost:8080/",
     "height": 35
    },
    "id": "LXgRk0JW1tFj",
    "outputId": "5f7b4246-3410-4807-c87c-8c877631a297"
   },
   "outputs": [
    {
     "data": {
      "text/plain": [
       "'2.8.0'"
      ]
     },
     "execution_count": 12,
     "metadata": {},
     "output_type": "execute_result"
    }
   ],
   "source": [
    "import torch\n",
    "torch.__version__"
   ]
  },
  {
   "cell_type": "code",
   "execution_count": null,
   "metadata": {},
   "outputs": [],
   "source": [
    "# =============================\n",
    "# Hyperparameters (Students: FILL THESE)\n",
    "# =============================\n",
    "# Convolution parameters for the first ResNet layer that processes MNIST images.\n",
    "# - KERNEL_SIZE: size of the sliding window. Larger values see more context but can blur fine details.\n",
    "# - STRIDE: step size of the window. Larger stride downsamples more aggressively (fewer output pixels).\n",
    "# - PADDING: zeros added to borders so outputs keep more spatial size; larger padding preserves border information.\n",
    "# Learning rate controls how big a step the optimizer takes; too high can diverge, too low can be slow.\n",
    "\n",
    "# Students: set these four values. Examples are in the comments.\n",
    "KERNEL_SIZE = None      # e.g., (3, 3), (5, 5), (7, 7)\n",
    "STRIDE = None           # e.g., (1, 1) for minimal downsampling, or (2, 2)\n",
    "PADDING = None          # e.g., (1, 1) for small padding, or (3, 3)\n",
    "LEARNING_RATE = None    # e.g., 1e-3, 5e-3, 1e-2\n"
   ]
  },
  {
   "cell_type": "code",
   "execution_count": 1,
   "metadata": {
    "id": "ZQ9v3r3p110D"
   },
   "outputs": [],
   "source": [
    "from torchvision.models import resnet18\n",
    "from torch import nn\n",
    "from torch.utils.data import DataLoader"
   ]
  },
  {
   "cell_type": "code",
   "execution_count": 2,
   "metadata": {
    "id": "dGI-XSeM197i"
   },
   "outputs": [],
   "source": [
    "model = resnet18(num_classes=10)"
   ]
  },
  {
   "cell_type": "code",
   "execution_count": 5,
   "metadata": {
    "colab": {
     "base_uri": "https://localhost:8080/"
    },
    "id": "4w74-fNj2W6e",
    "outputId": "ab0ad7f5-787a-4175-eb3c-5f0ba37a3233"
   },
   "outputs": [
    {
     "data": {
      "text/plain": [
       "ResNet(\n",
       "  (conv1): Conv2d(3, 64, kernel_size=(7, 7), stride=(2, 2), padding=(3, 3), bias=False)\n",
       "  (bn1): BatchNorm2d(64, eps=1e-05, momentum=0.1, affine=True, track_running_stats=True)\n",
       "  (relu): ReLU(inplace=True)\n",
       "  (maxpool): MaxPool2d(kernel_size=3, stride=2, padding=1, dilation=1, ceil_mode=False)\n",
       "  (layer1): Sequential(\n",
       "    (0): BasicBlock(\n",
       "      (conv1): Conv2d(64, 64, kernel_size=(3, 3), stride=(1, 1), padding=(1, 1), bias=False)\n",
       "      (bn1): BatchNorm2d(64, eps=1e-05, momentum=0.1, affine=True, track_running_stats=True)\n",
       "      (relu): ReLU(inplace=True)\n",
       "      (conv2): Conv2d(64, 64, kernel_size=(3, 3), stride=(1, 1), padding=(1, 1), bias=False)\n",
       "      (bn2): BatchNorm2d(64, eps=1e-05, momentum=0.1, affine=True, track_running_stats=True)\n",
       "    )\n",
       "    (1): BasicBlock(\n",
       "      (conv1): Conv2d(64, 64, kernel_size=(3, 3), stride=(1, 1), padding=(1, 1), bias=False)\n",
       "      (bn1): BatchNorm2d(64, eps=1e-05, momentum=0.1, affine=True, track_running_stats=True)\n",
       "      (relu): ReLU(inplace=True)\n",
       "      (conv2): Conv2d(64, 64, kernel_size=(3, 3), stride=(1, 1), padding=(1, 1), bias=False)\n",
       "      (bn2): BatchNorm2d(64, eps=1e-05, momentum=0.1, affine=True, track_running_stats=True)\n",
       "    )\n",
       "  )\n",
       "  (layer2): Sequential(\n",
       "    (0): BasicBlock(\n",
       "      (conv1): Conv2d(64, 128, kernel_size=(3, 3), stride=(2, 2), padding=(1, 1), bias=False)\n",
       "      (bn1): BatchNorm2d(128, eps=1e-05, momentum=0.1, affine=True, track_running_stats=True)\n",
       "      (relu): ReLU(inplace=True)\n",
       "      (conv2): Conv2d(128, 128, kernel_size=(3, 3), stride=(1, 1), padding=(1, 1), bias=False)\n",
       "      (bn2): BatchNorm2d(128, eps=1e-05, momentum=0.1, affine=True, track_running_stats=True)\n",
       "      (downsample): Sequential(\n",
       "        (0): Conv2d(64, 128, kernel_size=(1, 1), stride=(2, 2), bias=False)\n",
       "        (1): BatchNorm2d(128, eps=1e-05, momentum=0.1, affine=True, track_running_stats=True)\n",
       "      )\n",
       "    )\n",
       "    (1): BasicBlock(\n",
       "      (conv1): Conv2d(128, 128, kernel_size=(3, 3), stride=(1, 1), padding=(1, 1), bias=False)\n",
       "      (bn1): BatchNorm2d(128, eps=1e-05, momentum=0.1, affine=True, track_running_stats=True)\n",
       "      (relu): ReLU(inplace=True)\n",
       "      (conv2): Conv2d(128, 128, kernel_size=(3, 3), stride=(1, 1), padding=(1, 1), bias=False)\n",
       "      (bn2): BatchNorm2d(128, eps=1e-05, momentum=0.1, affine=True, track_running_stats=True)\n",
       "    )\n",
       "  )\n",
       "  (layer3): Sequential(\n",
       "    (0): BasicBlock(\n",
       "      (conv1): Conv2d(128, 256, kernel_size=(3, 3), stride=(2, 2), padding=(1, 1), bias=False)\n",
       "      (bn1): BatchNorm2d(256, eps=1e-05, momentum=0.1, affine=True, track_running_stats=True)\n",
       "      (relu): ReLU(inplace=True)\n",
       "      (conv2): Conv2d(256, 256, kernel_size=(3, 3), stride=(1, 1), padding=(1, 1), bias=False)\n",
       "      (bn2): BatchNorm2d(256, eps=1e-05, momentum=0.1, affine=True, track_running_stats=True)\n",
       "      (downsample): Sequential(\n",
       "        (0): Conv2d(128, 256, kernel_size=(1, 1), stride=(2, 2), bias=False)\n",
       "        (1): BatchNorm2d(256, eps=1e-05, momentum=0.1, affine=True, track_running_stats=True)\n",
       "      )\n",
       "    )\n",
       "    (1): BasicBlock(\n",
       "      (conv1): Conv2d(256, 256, kernel_size=(3, 3), stride=(1, 1), padding=(1, 1), bias=False)\n",
       "      (bn1): BatchNorm2d(256, eps=1e-05, momentum=0.1, affine=True, track_running_stats=True)\n",
       "      (relu): ReLU(inplace=True)\n",
       "      (conv2): Conv2d(256, 256, kernel_size=(3, 3), stride=(1, 1), padding=(1, 1), bias=False)\n",
       "      (bn2): BatchNorm2d(256, eps=1e-05, momentum=0.1, affine=True, track_running_stats=True)\n",
       "    )\n",
       "  )\n",
       "  (layer4): Sequential(\n",
       "    (0): BasicBlock(\n",
       "      (conv1): Conv2d(256, 512, kernel_size=(3, 3), stride=(2, 2), padding=(1, 1), bias=False)\n",
       "      (bn1): BatchNorm2d(512, eps=1e-05, momentum=0.1, affine=True, track_running_stats=True)\n",
       "      (relu): ReLU(inplace=True)\n",
       "      (conv2): Conv2d(512, 512, kernel_size=(3, 3), stride=(1, 1), padding=(1, 1), bias=False)\n",
       "      (bn2): BatchNorm2d(512, eps=1e-05, momentum=0.1, affine=True, track_running_stats=True)\n",
       "      (downsample): Sequential(\n",
       "        (0): Conv2d(256, 512, kernel_size=(1, 1), stride=(2, 2), bias=False)\n",
       "        (1): BatchNorm2d(512, eps=1e-05, momentum=0.1, affine=True, track_running_stats=True)\n",
       "      )\n",
       "    )\n",
       "    (1): BasicBlock(\n",
       "      (conv1): Conv2d(512, 512, kernel_size=(3, 3), stride=(1, 1), padding=(1, 1), bias=False)\n",
       "      (bn1): BatchNorm2d(512, eps=1e-05, momentum=0.1, affine=True, track_running_stats=True)\n",
       "      (relu): ReLU(inplace=True)\n",
       "      (conv2): Conv2d(512, 512, kernel_size=(3, 3), stride=(1, 1), padding=(1, 1), bias=False)\n",
       "      (bn2): BatchNorm2d(512, eps=1e-05, momentum=0.1, affine=True, track_running_stats=True)\n",
       "    )\n",
       "  )\n",
       "  (avgpool): AdaptiveAvgPool2d(output_size=(1, 1))\n",
       "  (fc): Linear(in_features=512, out_features=10, bias=True)\n",
       ")"
      ]
     },
     "execution_count": 5,
     "metadata": {},
     "output_type": "execute_result"
    }
   ],
   "source": [
    "model"
   ]
  },
  {
   "cell_type": "code",
   "execution_count": null,
   "metadata": {
    "id": "4HKuRCYF2Fzz"
   },
   "outputs": [],
   "source": [
    "# Replace the first convolution to accept MNIST 1-channel images using student hyperparameters\n",
    "# KERNEL_SIZE: receptive field size; STRIDE: downsampling factor; PADDING: border handling\n",
    "assert 'KERNEL_SIZE' in globals() and 'STRIDE' in globals() and 'PADDING' in globals(), \"Define KERNEL_SIZE, STRIDE, PADDING above\"\n",
    "assert KERNEL_SIZE is not None and STRIDE is not None and PADDING is not None, \"Fill in KERNEL_SIZE, STRIDE, PADDING in the hyperparameters cell\"\n",
    "# Basic shape validation to teach good practices\n",
    "assert isinstance(KERNEL_SIZE, tuple) and len(KERNEL_SIZE) == 2 and all(isinstance(v, int) and v > 0 for v in KERNEL_SIZE)\n",
    "assert isinstance(STRIDE, tuple) and len(STRIDE) == 2 and all(isinstance(v, int) and v > 0 for v in STRIDE)\n",
    "assert isinstance(PADDING, tuple) and len(PADDING) == 2 and all(isinstance(v, int) and v >= 0 for v in PADDING)\n",
    "model.conv1 = nn.Conv2d(1, 64, kernel_size=KERNEL_SIZE, stride=STRIDE, padding=PADDING, bias=False)"
   ]
  },
  {
   "cell_type": "code",
   "execution_count": null,
   "metadata": {
    "id": "jmaFWBH22GYc"
   },
   "outputs": [],
   "source": [
    "# DATA: MNIST dataset and transforms\n",
    "# - MNIST has grayscale (1-channel) 28x28 images of handwritten digits 0-9\n",
    "# - We use ToTensor to convert PIL images to torch tensors in [0,1]\n",
    "from torchvision.datasets import MNIST\n",
    "from torchvision.transforms import ToTensor"
   ]
  },
  {
   "cell_type": "code",
   "execution_count": null,
   "metadata": {
    "id": "Ao-6mYVp35Pq"
   },
   "outputs": [],
   "source": [
    "# Train and test splits. Setting download=True fetches the data if not present.\n",
    "# transform=ToTensor converts images to shape [C,H,W] where C=1 for MNIST.\n",
    "train_ds = MNIST(\"mnist\", train=True, download=True, transform=ToTensor())\n",
    "test_ds = MNIST(\"mnist\", train=False, download=True, transform=ToTensor())"
   ]
  },
  {
   "cell_type": "code",
   "execution_count": null,
   "metadata": {
    "id": "D82fQg67e1mh"
   },
   "outputs": [],
   "source": [
    "# DataLoaders create mini-batches for training and evaluation\n",
    "# - batch_size controls how many images per step (fits GPU/CPU memory)\n",
    "# - shuffle=True for training improves SGD by mixing data\n",
    "train_dl = DataLoader(train_ds, batch_size=64, shuffle=True)\n",
    "test_dl = DataLoader(test_ds, batch_size=64)"
   ]
  },
  {
   "cell_type": "code",
   "execution_count": 7,
   "metadata": {
    "id": "bgoXQLr93_VA"
   },
   "outputs": [],
   "source": [
    "import pytorch_lightning as pl"
   ]
  },
  {
   "cell_type": "code",
   "execution_count": null,
   "metadata": {
    "id": "x3i-iqtudjJh"
   },
   "outputs": [],
   "source": [
    "# LightningModule wraps training logic; students supply hyperparameters from the cell above\n",
    "class ResNetMNIST(pl.LightningModule):\n",
    "  def __init__(self, kernel_size, stride, padding, learning_rate):\n",
    "    super().__init__()\n",
    "    # Validate inputs early for a better teaching experience\n",
    "    assert isinstance(kernel_size, tuple) and len(kernel_size) == 2 and all(isinstance(v, int) and v > 0 for v in kernel_size), \"kernel_size must be a 2-int tuple\"\n",
    "    assert isinstance(stride, tuple) and len(stride) == 2 and all(isinstance(v, int) and v > 0 for v in stride), \"stride must be a 2-int tuple\"\n",
    "    assert isinstance(padding, tuple) and len(padding) == 2 and all(isinstance(v, int) and v >= 0 for v in padding), \"padding must be a 2-int tuple\"\n",
    "    assert isinstance(learning_rate, float) and learning_rate > 0, \"learning_rate must be a positive float\"\n",
    "\n",
    "    # Save hyperparameters so checkpoints remember them\n",
    "    self.save_hyperparameters()\n",
    "  \n",
    "    # Build the backbone\n",
    "    self.model = resnet18(num_classes=10)\n",
    "    # Swap first conv to accept 1-channel MNIST using student-chosen params:\n",
    "    # - Larger kernel_size sees more context; too large may over-smooth\n",
    "    # - Larger stride downsamples more; may lose detail\n",
    "    # - More padding preserves borders; zero padding adds zeros around edges\n",
    "    self.model.conv1 = nn.Conv2d(1, 64, kernel_size=kernel_size, stride=stride, padding=padding, bias=False)\n",
    "\n",
    "    self.loss = nn.CrossEntropyLoss()\n",
    "    self.learning_rate = learning_rate\n",
    "\n",
    "  def forward(self, x):\n",
    "    return self.model(x)\n",
    "  \n",
    "  def training_step(self, batch, batch_no):\n",
    "    # batch is a tuple of (images, labels)\n",
    "    x, y = batch\n",
    "    logits = self(x)\n",
    "    loss = self.loss(logits, y)\n",
    "    return loss\n",
    "  \n",
    "  def configure_optimizers(self):\n",
    "    # RMSprop is a good baseline optimizer for CNNs; learning_rate chosen by students\n",
    "    return torch.optim.RMSprop(self.parameters(), lr=self.learning_rate)"
   ]
  },
  {
   "cell_type": "code",
   "execution_count": null,
   "metadata": {
    "id": "_j-BkUAafEYb"
   },
   "outputs": [],
   "source": [
    "# Instantiate the LightningModule with hyperparameters from the student cell\n",
    "# We assert they have been filled to guide students.\n",
    "assert all(v is not None for v in (KERNEL_SIZE, STRIDE, PADDING, LEARNING_RATE)), \"Fill in all hyperparameters first in the hyperparameters cell\"\n",
    "model = ResNetMNIST(kernel_size=KERNEL_SIZE, stride=STRIDE, padding=PADDING, learning_rate=LEARNING_RATE)"
   ]
  },
  {
   "cell_type": "code",
   "execution_count": null,
   "metadata": {
    "colab": {
     "base_uri": "https://localhost:8080/"
    },
    "id": "bPIS9rYcdX4N",
    "outputId": "b059ff2a-9f13-4623-98fb-8b4e9dc2da27"
   },
   "outputs": [
    {
     "name": "stderr",
     "output_type": "stream",
     "text": [
      "💡 Tip: For seamless cloud uploads and versioning, try installing [litmodels](https://pypi.org/project/litmodels/) to enable LitModelCheckpoint, which syncs automatically with the Lightning model registry.\n",
      "GPU available: True (mps), used: True\n",
      "TPU available: False, using: 0 TPU cores\n",
      "HPU available: False, using: 0 HPUs\n",
      "/Users/advaittahilyani/anaconda3/envs/waferDetection/lib/python3.10/site-packages/pytorch_lightning/trainer/connectors/logger_connector/logger_connector.py:76: Starting from v1.9.0, `tensorboardX` has been removed as a dependency of the `pytorch_lightning` package, due to potential conflicts with other packages in the ML ecosystem. For this reason, `logger=True` will use `CSVLogger` as the default logger, unless the `tensorboard` or `tensorboardX` packages are found. Please `pip install lightning[extra]` or one of them to enable TensorBoard support by default\n"
     ]
    }
   ],
   "source": [
    "# Trainer orchestrates the training loop\n",
    "# - max_epochs: how many full passes over the training set\n",
    "# - enable_progress_bar: show progress in notebooks/CLI\n",
    "# - log_every_n_steps: how often to log metrics to the logger\n",
    "trainer = pl.Trainer(\n",
    "    max_epochs=1,\n",
    "    enable_progress_bar=True,   # replaces progress_bar_refresh_rate\n",
    "    log_every_n_steps=20        # controls logging frequency\n",
    ")"
   ]
  },
  {
   "cell_type": "code",
   "execution_count": null,
   "metadata": {
    "colab": {
     "base_uri": "https://localhost:8080/",
     "height": 236,
     "referenced_widgets": [
      "0e155455924b42278dc91ff44ef27ba6",
      "0fcd05c279474e42850833b0b8c20250",
      "6edfa632623446748f233c2097d291ef",
      "9cf46068466f45238f18bdbadbfef751",
      "4e9164952d174fc382dcdc6fec05941d",
      "92a52f5f942c47d79583c1e8f330b0d6",
      "0791ac19ce2d4d1ba7436e97cdfc60f5",
      "5cd1d7951875466dbb78d84bf9b3aa35"
     ]
    },
    "id": "pz4sRnoLetQv",
    "outputId": "8d5761b5-7c2e-4e48-8ddf-34fbee55aa6f"
   },
   "outputs": [
    {
     "name": "stderr",
     "output_type": "stream",
     "text": [
      "\n",
      "  | Name  | Type             | Params | Mode \n",
      "---------------------------------------------------\n",
      "0 | model | ResNet           | 11.2 M | train\n",
      "1 | loss  | CrossEntropyLoss | 0      | train\n",
      "---------------------------------------------------\n",
      "11.2 M    Trainable params\n",
      "0         Non-trainable params\n",
      "11.2 M    Total params\n",
      "44.701    Total estimated model params size (MB)\n",
      "69        Modules in train mode\n",
      "0         Modules in eval mode\n",
      "/Users/advaittahilyani/anaconda3/envs/waferDetection/lib/python3.10/site-packages/pytorch_lightning/trainer/connectors/data_connector.py:433: The 'train_dataloader' does not have many workers which may be a bottleneck. Consider increasing the value of the `num_workers` argument` to `num_workers=11` in the `DataLoader` to improve performance.\n"
     ]
    },
    {
     "name": "stdout",
     "output_type": "stream",
     "text": [
      "Epoch 0: 100%|██████████| 938/938 [00:32<00:00, 28.49it/s, v_num=1]"
     ]
    },
    {
     "name": "stderr",
     "output_type": "stream",
     "text": [
      "`Trainer.fit` stopped: `max_epochs=1` reached.\n"
     ]
    },
    {
     "name": "stdout",
     "output_type": "stream",
     "text": [
      "Epoch 0: 100%|██████████| 938/938 [00:33<00:00, 28.36it/s, v_num=1]\n"
     ]
    }
   ],
   "source": [
    "# Kick off training: the trainer will call training_step repeatedly over mini-batches\n",
    "trainer.fit(model, train_dl)"
   ]
  },
  {
   "cell_type": "code",
   "execution_count": null,
   "metadata": {
    "id": "T67whYQukIOk"
   },
   "outputs": [],
   "source": [
    "# Save a checkpoint containing model weights and hyperparameters (via save_hyperparameters)\n",
    "# Note: If you change hyperparameters, you should retrain before saving a new checkpoint.\n",
    "trainer.save_checkpoint(\"resnet18_mnist.pt\")"
   ]
  },
  {
   "cell_type": "code",
   "execution_count": 15,
   "metadata": {
    "id": "p30X4Ivo4Htv"
   },
   "outputs": [],
   "source": [
    "def get_prediction(x, model: pl.LightningModule):\n",
    "  model.freeze() # prepares model for predicting\n",
    "  probabilities = torch.softmax(model(x), dim=1)\n",
    "  predicted_class = torch.argmax(probabilities, dim=1)\n",
    "  return predicted_class, probabilities"
   ]
  },
  {
   "cell_type": "code",
   "execution_count": 16,
   "metadata": {
    "id": "FS_CQYQ1iQdJ"
   },
   "outputs": [
    {
     "name": "stderr",
     "output_type": "stream",
     "text": [
      "/var/folders/2z/mgq3br417bdf40vb82c4_vg80000gp/T/ipykernel_19828/987820437.py:1: TqdmWarning: IProgress not found. Please update jupyter and ipywidgets. See https://ipywidgets.readthedocs.io/en/stable/user_install.html\n",
      "  from tqdm.autonotebook import tqdm\n"
     ]
    }
   ],
   "source": [
    "from tqdm.autonotebook import tqdm"
   ]
  },
  {
   "cell_type": "code",
   "execution_count": null,
   "metadata": {
    "id": "GEbp-EItkM3M"
   },
   "outputs": [],
   "source": [
    "# Load from checkpoint; Lightning will restore hparams saved during training\n",
    "# This means you don't need to pass kernel_size/stride/padding/learning_rate here\n",
    "inference_model = ResNetMNIST.load_from_checkpoint(\"resnet18_mnist.pt\")"
   ]
  },
  {
   "cell_type": "code",
   "execution_count": 18,
   "metadata": {
    "colab": {
     "base_uri": "https://localhost:8080/",
     "height": 66,
     "referenced_widgets": [
      "6a31beed06ea481d98c02af3df208bc9",
      "431472e2691f4dc1816a938557ee4175",
      "6a3dce424ec74e87802f1675b81a8ae3",
      "2c5263e23ba8453a972f28ca2c13e016",
      "e7da8561805c44fbb3acfde081edfad1",
      "6b6ae79578114aeab0a7e930f85ae84e",
      "d1ff862540a7408d8e2b8574ba8dc240",
      "5325355a012c4db1b40e2e1e26da8acf"
     ]
    },
    "id": "vWPCxLiafmLb",
    "outputId": "5c7ed97b-2df7-489e-9acb-2661504f612e"
   },
   "outputs": [
    {
     "name": "stderr",
     "output_type": "stream",
     "text": [
      "100%|██████████| 157/157 [00:37<00:00,  4.19it/s]\n"
     ]
    }
   ],
   "source": [
    "true_y, pred_y = [], []\n",
    "for batch in tqdm(iter(test_dl), total=len(test_dl)):\n",
    "  x, y = batch\n",
    "  true_y.extend(y)\n",
    "  preds, probs = get_prediction(x, inference_model)\n",
    "  pred_y.extend(preds.cpu())"
   ]
  },
  {
   "cell_type": "code",
   "execution_count": 19,
   "metadata": {
    "id": "1EmdZjUfiJhj"
   },
   "outputs": [],
   "source": [
    "from sklearn.metrics import classification_report"
   ]
  },
  {
   "cell_type": "code",
   "execution_count": 20,
   "metadata": {
    "colab": {
     "base_uri": "https://localhost:8080/"
    },
    "id": "-Oj2Mh8fifhB",
    "outputId": "2d3e9861-0917-4106-af9e-1edea8a18ac2"
   },
   "outputs": [
    {
     "name": "stdout",
     "output_type": "stream",
     "text": [
      "              precision    recall  f1-score   support\n",
      "\n",
      "           0      0.985     0.991     0.988       980\n",
      "           1      0.980     0.996     0.988      1135\n",
      "           2      0.955     0.984     0.969      1032\n",
      "           3      0.988     0.986     0.987      1010\n",
      "           4      0.985     0.988     0.986       982\n",
      "           5      0.975     0.991     0.983       892\n",
      "           6      0.997     0.960     0.978       958\n",
      "           7      0.977     0.976     0.976      1028\n",
      "           8      0.983     0.957     0.970       974\n",
      "           9      0.980     0.970     0.975      1009\n",
      "\n",
      "    accuracy                          0.980     10000\n",
      "   macro avg      0.980     0.980     0.980     10000\n",
      "weighted avg      0.980     0.980     0.980     10000\n",
      "\n"
     ]
    }
   ],
   "source": [
    "print(classification_report(true_y, pred_y, digits=3))"
   ]
  },
  {
   "cell_type": "code",
   "execution_count": 21,
   "metadata": {},
   "outputs": [
    {
     "data": {
      "image/png": "[encoded data removed]",
      "text/plain": [
       "<Figure size 1100x880 with 20 Axes>"
      ]
     },
     "metadata": {},
     "output_type": "display_data"
    }
   ],
   "source": [
    "# MNIST dataset visualization (random samples)\n",
    "import matplotlib.pyplot as plt\n",
    "import random\n",
    "import torch\n",
    "\n",
    "# Dataset assertions and selection\n",
    "assert 'test_ds' in globals() or 'train_ds' in globals(), \"MNIST datasets not found\"\n",
    "ds = globals().get('test_ds', globals().get('train_ds'))\n",
    "assert ds is not None and len(ds) > 0, \"Dataset is missing or empty\"\n",
    "\n",
    "rows, cols = 4, 5\n",
    "num_images = rows * cols\n",
    "assert len(ds) >= num_images, f\"Dataset too small for {num_images} samples\"\n",
    "indices = random.sample(range(len(ds)), num_images)\n",
    "\n",
    "fig, axes = plt.subplots(rows, cols, figsize=(cols * 2.2, rows * 2.2))\n",
    "for i, idx in enumerate(indices):\n",
    "  image, label = ds[idx]\n",
    "  assert hasattr(image, 'shape'), \"Sample image lacks shape\"\n",
    "  # Torchvision MNIST returns CHW tensors in [0, 1]\n",
    "  assert isinstance(image, torch.Tensor), \"Image must be a torch.Tensor\"\n",
    "  assert image.ndim in (2, 3), f\"Unexpected image dims: {image.ndim}\"\n",
    "  if image.ndim == 3:\n",
    "    assert image.shape[0] in (1, 3), f\"Unexpected channels: {tuple(image.shape)}\"\n",
    "    img_np = image.squeeze(0).numpy() if image.shape[0] == 1 else image.permute(1, 2, 0).numpy()\n",
    "    cmap = 'gray' if image.shape[0] == 1 else None\n",
    "  else:\n",
    "    img_np = image.numpy()\n",
    "    cmap = 'gray'\n",
    "  ax = axes[i // cols, i % cols]\n",
    "  ax.imshow(img_np, cmap=cmap)\n",
    "  ax.set_title(f\"Label: {int(label)}\", fontsize=9)\n",
    "  ax.axis('off')\n",
    "\n",
    "plt.suptitle(\"MNIST samples\")\n",
    "plt.tight_layout()\n",
    "plt.show()\n"
   ]
  },
  {
   "cell_type": "code",
   "execution_count": 22,
   "metadata": {},
   "outputs": [
    {
     "data": {
      "image/png": "[encoded data removed]",
      "text/plain": [
       "<Figure size 1320x660 with 18 Axes>"
      ]
     },
     "metadata": {},
     "output_type": "display_data"
    }
   ],
   "source": [
    "# Prediction visualization (model vs ground truth)\n",
    "import matplotlib.pyplot as plt\n",
    "import torch\n",
    "\n",
    "assert 'inference_model' in globals(), \"Missing 'inference_model'. Run the inference cell first.\"\n",
    "assert 'test_dl' in globals(), \"Missing 'test_dl' dataloader.\"\n",
    "model = inference_model\n",
    "model.freeze()\n",
    "\n",
    "# Collect a single batch\n",
    "batch_iter = iter(test_dl)\n",
    "x_batch, y_batch = next(batch_iter)\n",
    "assert isinstance(x_batch, torch.Tensor) and isinstance(y_batch, torch.Tensor), \"Batch must be tensors\"\n",
    "\n",
    "with torch.no_grad():\n",
    "  probs = torch.softmax(model(x_batch), dim=1)\n",
    "  preds = torch.argmax(probs, dim=1)\n",
    "\n",
    "rows, cols = 3, 6\n",
    "num_images = rows * cols\n",
    "assert x_batch.shape[0] >= num_images, f\"Batch too small for {num_images} images\"\n",
    "\n",
    "fig, axes = plt.subplots(rows, cols, figsize=(cols * 2.2, rows * 2.2))\n",
    "for i in range(num_images):\n",
    "  img = x_batch[i]\n",
    "  assert img.ndim in (3, 4), f\"Unexpected img dims: {img.ndim}\"\n",
    "  if img.ndim == 3:\n",
    "    assert img.shape[0] in (1, 3), f\"Unexpected channels: {tuple(img.shape)}\"\n",
    "    img_np = img.squeeze(0).numpy() if img.shape[0] == 1 else img.permute(1, 2, 0).numpy()\n",
    "    cmap = 'gray' if img.shape[0] == 1 else None\n",
    "  else:\n",
    "    img_np = img.squeeze().numpy()\n",
    "    cmap = 'gray'\n",
    "  ax = axes[i // cols, i % cols]\n",
    "  ax.imshow(img_np, cmap=cmap)\n",
    "  title = f\"GT:{int(y_batch[i])} | Pred:{int(preds[i])}\"\n",
    "  if preds[i] != y_batch[i]:\n",
    "    title = title + \" ✗\"\n",
    "  ax.set_title(title, fontsize=9)\n",
    "  ax.axis('off')\n",
    "\n",
    "plt.suptitle(\"Predictions vs Ground Truth (batch samples)\")\n",
    "plt.tight_layout()\n",
    "plt.show()\n"
   ]
  },
  {
   "cell_type": "code",
   "execution_count": null,
   "metadata": {},
   "outputs": [],
   "source": []
  }
 ],
 "metadata": {
  "accelerator": "GPU",
  "colab": {
   "collapsed_sections": [],
   "name": "ResNet MNIST PyTorch 1.7",
   "provenance": []
  },
  "kernelspec": {
   "display_name": "waferDetection",
   "language": "python",
   "name": "python3"
  },
  "language_info": {
   "codemirror_mode": {
    "name": "ipython",
    "version": 3
   },
   "file_extension": ".py",
   "mimetype": "text/x-python",
   "name": "python",
   "nbconvert_exporter": "python",
   "pygments_lexer": "ipython3",
   "version": "3.10.18"
  },
  "widgets": {
   "application/vnd.jupyter.widget-state+json": {
    "0791ac19ce2d4d1ba7436e97cdfc60f5": {
     "model_module": "@jupyter-widgets/controls",
     "model_name": "DescriptionStyleModel",
     "state": {
      "_model_module": "@jupyter-widgets/controls",
      "_model_module_version": "1.5.0",
      "_model_name": "DescriptionStyleModel",
      "_view_count": null,
      "_view_module": "@jupyter-widgets/base",
      "_view_module_version": "1.2.0",
      "_view_name": "StyleView",
      "description_width": ""
     }
    },
    "0e155455924b42278dc91ff44ef27ba6": {
     "model_module": "@jupyter-widgets/controls",
     "model_name": "HBoxModel",
     "state": {
      "_dom_classes": [],
      "_model_module": "@jupyter-widgets/controls",
      "_model_module_version": "1.5.0",
      "_model_name": "HBoxModel",
      "_view_count": null,
      "_view_module": "@jupyter-widgets/controls",
      "_view_module_version": "1.5.0",
      "_view_name": "HBoxView",
      "box_style": "",
      "children": [
       "IPY_MODEL_6edfa632623446748f233c2097d291ef",
       "IPY_MODEL_9cf46068466f45238f18bdbadbfef751"
      ],
      "layout": "IPY_MODEL_0fcd05c279474e42850833b0b8c20250"
     }
    },
    "0fcd05c279474e42850833b0b8c20250": {
     "model_module": "@jupyter-widgets/base",
     "model_name": "LayoutModel",
     "state": {
      "_model_module": "@jupyter-widgets/base",
      "_model_module_version": "1.2.0",
      "_model_name": "LayoutModel",
      "_view_count": null,
      "_view_module": "@jupyter-widgets/base",
      "_view_module_version": "1.2.0",
      "_view_name": "LayoutView",
      "align_content": null,
      "align_items": null,
      "align_self": null,
      "border": null,
      "bottom": null,
      "display": "inline-flex",
      "flex": null,
      "flex_flow": "row wrap",
      "grid_area": null,
      "grid_auto_columns": null,
      "grid_auto_flow": null,
      "grid_auto_rows": null,
      "grid_column": null,
      "grid_gap": null,
      "grid_row": null,
      "grid_template_areas": null,
      "grid_template_columns": null,
      "grid_template_rows": null,
      "height": null,
      "justify_content": null,
      "justify_items": null,
      "left": null,
      "margin": null,
      "max_height": null,
      "max_width": null,
      "min_height": null,
      "min_width": null,
      "object_fit": null,
      "object_position": null,
      "order": null,
      "overflow": null,
      "overflow_x": null,
      "overflow_y": null,
      "padding": null,
      "right": null,
      "top": null,
      "visibility": null,
      "width": "100%"
     }
    },
    "2c5263e23ba8453a972f28ca2c13e016": {
     "model_module": "@jupyter-widgets/controls",
     "model_name": "HTMLModel",
     "state": {
      "_dom_classes": [],
      "_model_module": "@jupyter-widgets/controls",
      "_model_module_version": "1.5.0",
      "_model_name": "HTMLModel",
      "_view_count": null,
      "_view_module": "@jupyter-widgets/controls",
      "_view_module_version": "1.5.0",
      "_view_name": "HTMLView",
      "description": "",
      "description_tooltip": null,
      "layout": "IPY_MODEL_5325355a012c4db1b40e2e1e26da8acf",
      "placeholder": "​",
      "style": "IPY_MODEL_d1ff862540a7408d8e2b8574ba8dc240",
      "value": " 157/157 [00:10&lt;00:00, 14.35it/s]"
     }
    },
    "431472e2691f4dc1816a938557ee4175": {
     "model_module": "@jupyter-widgets/base",
     "model_name": "LayoutModel",
     "state": {
      "_model_module": "@jupyter-widgets/base",
      "_model_module_version": "1.2.0",
      "_model_name": "LayoutModel",
      "_view_count": null,
      "_view_module": "@jupyter-widgets/base",
      "_view_module_version": "1.2.0",
      "_view_name": "LayoutView",
      "align_content": null,
      "align_items": null,
      "align_self": null,
      "border": null,
      "bottom": null,
      "display": null,
      "flex": null,
      "flex_flow": null,
      "grid_area": null,
      "grid_auto_columns": null,
      "grid_auto_flow": null,
      "grid_auto_rows": null,
      "grid_column": null,
      "grid_gap": null,
      "grid_row": null,
      "grid_template_areas": null,
      "grid_template_columns": null,
      "grid_template_rows": null,
      "height": null,
      "justify_content": null,
      "justify_items": null,
      "left": null,
      "margin": null,
      "max_height": null,
      "max_width": null,
      "min_height": null,
      "min_width": null,
      "object_fit": null,
      "object_position": null,
      "order": null,
      "overflow": null,
      "overflow_x": null,
      "overflow_y": null,
      "padding": null,
      "right": null,
      "top": null,
      "visibility": null,
      "width": null
     }
    },
    "4e9164952d174fc382dcdc6fec05941d": {
     "model_module": "@jupyter-widgets/controls",
     "model_name": "ProgressStyleModel",
     "state": {
      "_model_module": "@jupyter-widgets/controls",
      "_model_module_version": "1.5.0",
      "_model_name": "ProgressStyleModel",
      "_view_count": null,
      "_view_module": "@jupyter-widgets/base",
      "_view_module_version": "1.2.0",
      "_view_name": "StyleView",
      "bar_color": null,
      "description_width": "initial"
     }
    },
    "5325355a012c4db1b40e2e1e26da8acf": {
     "model_module": "@jupyter-widgets/base",
     "model_name": "LayoutModel",
     "state": {
      "_model_module": "@jupyter-widgets/base",
      "_model_module_version": "1.2.0",
      "_model_name": "LayoutModel",
      "_view_count": null,
      "_view_module": "@jupyter-widgets/base",
      "_view_module_version": "1.2.0",
      "_view_name": "LayoutView",
      "align_content": null,
      "align_items": null,
      "align_self": null,
      "border": null,
      "bottom": null,
      "display": null,
      "flex": null,
      "flex_flow": null,
      "grid_area": null,
      "grid_auto_columns": null,
      "grid_auto_flow": null,
      "grid_auto_rows": null,
      "grid_column": null,
      "grid_gap": null,
      "grid_row": null,
      "grid_template_areas": null,
      "grid_template_columns": null,
      "grid_template_rows": null,
      "height": null,
      "justify_content": null,
      "justify_items": null,
      "left": null,
      "margin": null,
      "max_height": null,
      "max_width": null,
      "min_height": null,
      "min_width": null,
      "object_fit": null,
      "object_position": null,
      "order": null,
      "overflow": null,
      "overflow_x": null,
      "overflow_y": null,
      "padding": null,
      "right": null,
      "top": null,
      "visibility": null,
      "width": null
     }
    },
    "5cd1d7951875466dbb78d84bf9b3aa35": {
     "model_module": "@jupyter-widgets/base",
     "model_name": "LayoutModel",
     "state": {
      "_model_module": "@jupyter-widgets/base",
      "_model_module_version": "1.2.0",
      "_model_name": "LayoutModel",
      "_view_count": null,
      "_view_module": "@jupyter-widgets/base",
      "_view_module_version": "1.2.0",
      "_view_name": "LayoutView",
      "align_content": null,
      "align_items": null,
      "align_self": null,
      "border": null,
      "bottom": null,
      "display": null,
      "flex": null,
      "flex_flow": null,
      "grid_area": null,
      "grid_auto_columns": null,
      "grid_auto_flow": null,
      "grid_auto_rows": null,
      "grid_column": null,
      "grid_gap": null,
      "grid_row": null,
      "grid_template_areas": null,
      "grid_template_columns": null,
      "grid_template_rows": null,
      "height": null,
      "justify_content": null,
      "justify_items": null,
      "left": null,
      "margin": null,
      "max_height": null,
      "max_width": null,
      "min_height": null,
      "min_width": null,
      "object_fit": null,
      "object_position": null,
      "order": null,
      "overflow": null,
      "overflow_x": null,
      "overflow_y": null,
      "padding": null,
      "right": null,
      "top": null,
      "visibility": null,
      "width": null
     }
    },
    "6a31beed06ea481d98c02af3df208bc9": {
     "model_module": "@jupyter-widgets/controls",
     "model_name": "HBoxModel",
     "state": {
      "_dom_classes": [],
      "_model_module": "@jupyter-widgets/controls",
      "_model_module_version": "1.5.0",
      "_model_name": "HBoxModel",
      "_view_count": null,
      "_view_module": "@jupyter-widgets/controls",
      "_view_module_version": "1.5.0",
      "_view_name": "HBoxView",
      "box_style": "",
      "children": [
       "IPY_MODEL_6a3dce424ec74e87802f1675b81a8ae3",
       "IPY_MODEL_2c5263e23ba8453a972f28ca2c13e016"
      ],
      "layout": "IPY_MODEL_431472e2691f4dc1816a938557ee4175"
     }
    },
    "6a3dce424ec74e87802f1675b81a8ae3": {
     "model_module": "@jupyter-widgets/controls",
     "model_name": "FloatProgressModel",
     "state": {
      "_dom_classes": [],
      "_model_module": "@jupyter-widgets/controls",
      "_model_module_version": "1.5.0",
      "_model_name": "FloatProgressModel",
      "_view_count": null,
      "_view_module": "@jupyter-widgets/controls",
      "_view_module_version": "1.5.0",
      "_view_name": "ProgressView",
      "bar_style": "success",
      "description": "100%",
      "description_tooltip": null,
      "layout": "IPY_MODEL_6b6ae79578114aeab0a7e930f85ae84e",
      "max": 157,
      "min": 0,
      "orientation": "horizontal",
      "style": "IPY_MODEL_e7da8561805c44fbb3acfde081edfad1",
      "value": 157
     }
    },
    "6b6ae79578114aeab0a7e930f85ae84e": {
     "model_module": "@jupyter-widgets/base",
     "model_name": "LayoutModel",
     "state": {
      "_model_module": "@jupyter-widgets/base",
      "_model_module_version": "1.2.0",
      "_model_name": "LayoutModel",
      "_view_count": null,
      "_view_module": "@jupyter-widgets/base",
      "_view_module_version": "1.2.0",
      "_view_name": "LayoutView",
      "align_content": null,
      "align_items": null,
      "align_self": null,
      "border": null,
      "bottom": null,
      "display": null,
      "flex": null,
      "flex_flow": null,
      "grid_area": null,
      "grid_auto_columns": null,
      "grid_auto_flow": null,
      "grid_auto_rows": null,
      "grid_column": null,
      "grid_gap": null,
      "grid_row": null,
      "grid_template_areas": null,
      "grid_template_columns": null,
      "grid_template_rows": null,
      "height": null,
      "justify_content": null,
      "justify_items": null,
      "left": null,
      "margin": null,
      "max_height": null,
      "max_width": null,
      "min_height": null,
      "min_width": null,
      "object_fit": null,
      "object_position": null,
      "order": null,
      "overflow": null,
      "overflow_x": null,
      "overflow_y": null,
      "padding": null,
      "right": null,
      "top": null,
      "visibility": null,
      "width": null
     }
    },
    "6edfa632623446748f233c2097d291ef": {
     "model_module": "@jupyter-widgets/controls",
     "model_name": "FloatProgressModel",
     "state": {
      "_dom_classes": [],
      "_model_module": "@jupyter-widgets/controls",
      "_model_module_version": "1.5.0",
      "_model_name": "FloatProgressModel",
      "_view_count": null,
      "_view_module": "@jupyter-widgets/controls",
      "_view_module_version": "1.5.0",
      "_view_name": "ProgressView",
      "bar_style": "success",
      "description": "Epoch 0: 100%",
      "description_tooltip": null,
      "layout": "IPY_MODEL_92a52f5f942c47d79583c1e8f330b0d6",
      "max": 938,
      "min": 0,
      "orientation": "horizontal",
      "style": "IPY_MODEL_4e9164952d174fc382dcdc6fec05941d",
      "value": 938
     }
    },
    "92a52f5f942c47d79583c1e8f330b0d6": {
     "model_module": "@jupyter-widgets/base",
     "model_name": "LayoutModel",
     "state": {
      "_model_module": "@jupyter-widgets/base",
      "_model_module_version": "1.2.0",
      "_model_name": "LayoutModel",
      "_view_count": null,
      "_view_module": "@jupyter-widgets/base",
      "_view_module_version": "1.2.0",
      "_view_name": "LayoutView",
      "align_content": null,
      "align_items": null,
      "align_self": null,
      "border": null,
      "bottom": null,
      "display": null,
      "flex": "2",
      "flex_flow": null,
      "grid_area": null,
      "grid_auto_columns": null,
      "grid_auto_flow": null,
      "grid_auto_rows": null,
      "grid_column": null,
      "grid_gap": null,
      "grid_row": null,
      "grid_template_areas": null,
      "grid_template_columns": null,
      "grid_template_rows": null,
      "height": null,
      "justify_content": null,
      "justify_items": null,
      "left": null,
      "margin": null,
      "max_height": null,
      "max_width": null,
      "min_height": null,
      "min_width": null,
      "object_fit": null,
      "object_position": null,
      "order": null,
      "overflow": null,
      "overflow_x": null,
      "overflow_y": null,
      "padding": null,
      "right": null,
      "top": null,
      "visibility": null,
      "width": null
     }
    },
    "9cf46068466f45238f18bdbadbfef751": {
     "model_module": "@jupyter-widgets/controls",
     "model_name": "HTMLModel",
     "state": {
      "_dom_classes": [],
      "_model_module": "@jupyter-widgets/controls",
      "_model_module_version": "1.5.0",
      "_model_name": "HTMLModel",
      "_view_count": null,
      "_view_module": "@jupyter-widgets/controls",
      "_view_module_version": "1.5.0",
      "_view_name": "HTMLView",
      "description": "",
      "description_tooltip": null,
      "layout": "IPY_MODEL_5cd1d7951875466dbb78d84bf9b3aa35",
      "placeholder": "​",
      "style": "IPY_MODEL_0791ac19ce2d4d1ba7436e97cdfc60f5",
      "value": " 938/938 [00:22&lt;00:00, 42.27it/s, loss=0.0968, v_num=5]"
     }
    },
    "d1ff862540a7408d8e2b8574ba8dc240": {
     "model_module": "@jupyter-widgets/controls",
     "model_name": "DescriptionStyleModel",
     "state": {
      "_model_module": "@jupyter-widgets/controls",
      "_model_module_version": "1.5.0",
      "_model_name": "DescriptionStyleModel",
      "_view_count": null,
      "_view_module": "@jupyter-widgets/base",
      "_view_module_version": "1.2.0",
      "_view_name": "StyleView",
      "description_width": ""
     }
    },
    "e7da8561805c44fbb3acfde081edfad1": {
     "model_module": "@jupyter-widgets/controls",
     "model_name": "ProgressStyleModel",
     "state": {
      "_model_module": "@jupyter-widgets/controls",
      "_model_module_version": "1.5.0",
      "_model_name": "ProgressStyleModel",
      "_view_count": null,
      "_view_module": "@jupyter-widgets/base",
      "_view_module_version": "1.2.0",
      "_view_name": "StyleView",
      "bar_color": null,
      "description_width": "initial"
     }
    }
   }
  }
 },
 "nbformat": 4,
 "nbformat_minor": 4
}
